{
 "cells": [
  {
   "cell_type": "markdown",
   "metadata": {},
   "source": [
    "### Numpy basics"
   ]
  },
  {
   "cell_type": "code",
   "execution_count": 2,
   "metadata": {},
   "outputs": [],
   "source": [
    "import numpy as np"
   ]
  },
  {
   "cell_type": "markdown",
   "metadata": {},
   "source": [
    "1\\. Find the row, column and overall means for the following matrix:\n",
    "\n",
    "```python\n",
    "m = np.arange(12).reshape((3,4))\n",
    "```"
   ]
  },
  {
   "cell_type": "code",
   "execution_count": 5,
   "metadata": {},
   "outputs": [
    {
     "name": "stdout",
     "output_type": "stream",
     "text": [
      "The row means are: [1.5 5.5 9.5]\n",
      "The column means are: [4. 5. 6. 7.]\n",
      "The overall mean is: 5.5\n"
     ]
    }
   ],
   "source": [
    "import numpy as np\n",
    "m = np.arange(12).reshape((3,4))\n",
    "row_means = np.mean(m,axis=1)\n",
    "clm_means = np.mean(m,axis=0)\n",
    "tot_mean = np.mean(m)\n",
    "print(\"The row means are:\",row_means)\n",
    "print(\"The column means are:\",clm_means)\n",
    "print(\"The overall mean is:\",tot_mean)"
   ]
  },
  {
   "cell_type": "markdown",
   "metadata": {},
   "source": [
    "2\\. Find the outer product of the following two vecotrs\n",
    "\n",
    "```python\n",
    "u = np.array([1,3,5,7])\n",
    "v = np.array([2,4,6,8])\n",
    "```\n",
    "\n",
    "Do this in the following ways:\n",
    "\n",
    "   * Using the function outer in numpy\n",
    "   * Using a nested for loop or list comprehension\n",
    "   * Using numpy broadcasting operatoins\n"
   ]
  },
  {
   "cell_type": "code",
   "execution_count": 6,
   "metadata": {},
   "outputs": [
    {
     "name": "stdout",
     "output_type": "stream",
     "text": [
      "[[ 2  4  6  8]\n",
      " [ 6 12 18 24]\n",
      " [10 20 30 40]\n",
      " [14 28 42 56]]\n",
      "[[ 2  4  6  8]\n",
      " [ 6 12 18 24]\n",
      " [10 20 30 40]\n",
      " [14 28 42 56]]\n",
      "[[ 2  4  6  8]\n",
      " [ 6 12 18 24]\n",
      " [10 20 30 40]\n",
      " [14 28 42 56]]\n"
     ]
    }
   ],
   "source": [
    "u = np.array([1,3,5,7])\n",
    "v = np.array([2,4,6,8])\n",
    "\n",
    "outer_product1 = np.outer(u,v)\n",
    "outer_product2 = np.array([i*j for i in u for j in v]).reshape(4,4)\n",
    "outer_product3 = u[:,np.newaxis]*v\n",
    "\n",
    "print(outer_product1)\n",
    "print(outer_product2)\n",
    "print(outer_product3)"
   ]
  },
  {
   "cell_type": "markdown",
   "metadata": {},
   "source": [
    "3\\. Create a 10 by 6 matrix of random uniform numbers. Set all rows with any entry less than 0.1 to be zero\n",
    "\n",
    "Hint: Use the following numpy functions - np.random.random, np.any as well as Boolean indexing and the axis argument."
   ]
  },
  {
   "cell_type": "code",
   "execution_count": 7,
   "metadata": {},
   "outputs": [
    {
     "name": "stdout",
     "output_type": "stream",
     "text": [
      "[[0.28861837 0.13055047 0.06299753 0.31938663 0.52432351 0.15133827]\n",
      " [0.29459037 0.20790319 0.94198301 0.32210363 0.32362317 0.40696092]\n",
      " [0.71244867 0.60404809 0.45317019 0.20886637 0.31950899 0.11226815]\n",
      " [0.07722938 0.92685626 0.27596555 0.53791228 0.21694405 0.74495449]\n",
      " [0.26570225 0.64519382 0.95803093 0.82415522 0.25909274 0.87739361]\n",
      " [0.12016339 0.916465   0.26246792 0.47442524 0.9907369  0.33444261]\n",
      " [0.67055646 0.43760456 0.8447979  0.13414197 0.84957723 0.64087085]\n",
      " [0.55439854 0.56953175 0.53058413 0.35438532 0.12081754 0.9930714 ]\n",
      " [0.99541909 0.49192641 0.62611384 0.62304614 0.14750785 0.9593218 ]\n",
      " [0.63028941 0.39901801 0.50593245 0.84163138 0.3880974  0.77489834]]\n",
      "[[0.         0.         0.         0.         0.         0.        ]\n",
      " [0.29459037 0.20790319 0.94198301 0.32210363 0.32362317 0.40696092]\n",
      " [0.71244867 0.60404809 0.45317019 0.20886637 0.31950899 0.11226815]\n",
      " [0.         0.         0.         0.         0.         0.        ]\n",
      " [0.26570225 0.64519382 0.95803093 0.82415522 0.25909274 0.87739361]\n",
      " [0.12016339 0.916465   0.26246792 0.47442524 0.9907369  0.33444261]\n",
      " [0.67055646 0.43760456 0.8447979  0.13414197 0.84957723 0.64087085]\n",
      " [0.55439854 0.56953175 0.53058413 0.35438532 0.12081754 0.9930714 ]\n",
      " [0.99541909 0.49192641 0.62611384 0.62304614 0.14750785 0.9593218 ]\n",
      " [0.63028941 0.39901801 0.50593245 0.84163138 0.3880974  0.77489834]]\n"
     ]
    }
   ],
   "source": [
    "m = np.random.random(60).reshape(10,6)\n",
    "print(m)\n",
    "mask = m<0.1\n",
    "mask = np.any(mask,axis=1)\n",
    "m[mask,:] = 0\n",
    "print(m)"
   ]
  },
  {
   "cell_type": "markdown",
   "metadata": {},
   "source": [
    "4\\. Use np.linspace to create an array of 100 numbers between 0 and 2π (includsive).\n",
    "\n",
    "  * Extract every 10th element using slice notation\n",
    "  * Reverse the array using slice notation\n",
    "  * Extract elements where the absolute difference between the sine and cosine functions evaluated at that element is less than 0.1\n",
    "  * Make a plot showing the sin and cos functions and indicate where they are close"
   ]
  },
  {
   "cell_type": "code",
   "execution_count": 42,
   "metadata": {},
   "outputs": [
    {
     "data": {
      "text/plain": [
       "<matplotlib.legend.Legend at 0x27e54063580>"
      ]
     },
     "execution_count": 42,
     "metadata": {},
     "output_type": "execute_result"
    },
    {
     "data": {
      "image/png": "[encoded data removed]",
      "text/plain": [
       "<Figure size 432x288 with 1 Axes>"
      ]
     },
     "metadata": {
      "needs_background": "light"
     },
     "output_type": "display_data"
    }
   ],
   "source": [
    "import math\n",
    "import matplotlib.pyplot as plt\n",
    "\n",
    "%matplotlib inline\n",
    "\n",
    "vector = np.linspace(0,2*math.pi,100)\n",
    "#print(vector)\n",
    "extractions = vector[0::10]\n",
    "#print(extractions)\n",
    "\n",
    "reversed_array = vector[::-1]\n",
    "#print(reversed_array)\n",
    "\n",
    "sin = np.array([math.sin(i) for i in vector])\n",
    "cos = np.array([math.cos(i) for i in vector])\n",
    "diff = abs(sin-cos)\n",
    "#print(diff)\n",
    "extractions2 = vector[diff<0.1]\n",
    "#print(extractions2)\n",
    "\n",
    "plt.plot(vector, sin, label='sin', color = 'r')\n",
    "plt.plot(vector, cos, label='cos', color = 'g')\n",
    "plt.legend()"
   ]
  },
  {
   "cell_type": "markdown",
   "metadata": {},
   "source": [
    "5\\. Create a matrix that shows the 10 by 10 multiplication table.\n",
    "\n",
    " * Find the trace of the matrix\n",
    " * Extract the anto-diagonal (this should be ```array([10, 18, 24, 28, 30, 30, 28, 24, 18, 10])```)\n",
    " * Extract the diagnoal offset by 1 upwards (this should be ```array([ 2,  6, 12, 20, 30, 42, 56, 72, 90])```)"
   ]
  },
  {
   "cell_type": "code",
   "execution_count": 57,
   "metadata": {},
   "outputs": [
    {
     "name": "stdout",
     "output_type": "stream",
     "text": [
      "[[  1   2   3   4   5   6   7   8   9  10]\n",
      " [  2   4   6   8  10  12  14  16  18  20]\n",
      " [  3   6   9  12  15  18  21  24  27  30]\n",
      " [  4   8  12  16  20  24  28  32  36  40]\n",
      " [  5  10  15  20  25  30  35  40  45  50]\n",
      " [  6  12  18  24  30  36  42  48  54  60]\n",
      " [  7  14  21  28  35  42  49  56  63  70]\n",
      " [  8  16  24  32  40  48  56  64  72  80]\n",
      " [  9  18  27  36  45  54  63  72  81  90]\n",
      " [ 10  20  30  40  50  60  70  80  90 100]]\n",
      "385\n",
      "[10 18 24 28 30 30 28 24 18 10]\n",
      "[ 2  6 12 20 30 42 56 72 90]\n"
     ]
    }
   ],
   "source": [
    "m = np.array([i*j for i in range(1,11) for j in range(1,11)]).reshape(10,10)\n",
    "print(m)\n",
    "\n",
    "trace = sum(m[[i for i in range(10)],[i for i in range(10)]])\n",
    "print(trace)\n",
    "\n",
    "extraction = m[range(10),[9-i for i in range(10)]]\n",
    "print(extraction)\n",
    "\n",
    "extraction2 = m[range(9),[i+1 for i in range(9)]]\n",
    "print(extraction2)"
   ]
  },
  {
   "cell_type": "markdown",
   "metadata": {},
   "source": [
    "6\\. Use broadcasting to create a grid of distances\n",
    "\n",
    "Route 66 crosses the following cities in the US: Chicago, Springfield, Saint-Louis, Tulsa, Oklahoma City, Amarillo, Santa Fe, Albuquerque, Flagstaff, Los Angeles\n",
    "The corresponding positions in miles are: 0, 198, 303, 736, 871, 1175, 1475, 1544, 1913, 2448\n",
    "\n",
    "  * Construct a 2D grid of distances among each city along Route 66\n",
    "  * Convert that in km (those savages...)"
   ]
  },
  {
   "cell_type": "code",
   "execution_count": 66,
   "metadata": {},
   "outputs": [
    {
     "name": "stdout",
     "output_type": "stream",
     "text": [
      "[[   0  198  303  736  871 1175 1475 1544 1913 2448]\n",
      " [ 198    0  105  538  673  977 1277 1346 1715 2250]\n",
      " [ 303  105    0  433  568  872 1172 1241 1610 2145]\n",
      " [ 736  538  433    0  135  439  739  808 1177 1712]\n",
      " [ 871  673  568  135    0  304  604  673 1042 1577]\n",
      " [1175  977  872  439  304    0  300  369  738 1273]\n",
      " [1475 1277 1172  739  604  300    0   69  438  973]\n",
      " [1544 1346 1241  808  673  369   69    0  369  904]\n",
      " [1913 1715 1610 1177 1042  738  438  369    0  535]\n",
      " [2448 2250 2145 1712 1577 1273  973  904  535    0]]\n",
      "[[   0.     318.582  487.527 1184.224 1401.439 1890.575 2373.275 2484.296\n",
      "  3078.017 3938.832]\n",
      " [ 318.582    0.     168.945  865.642 1082.857 1571.993 2054.693 2165.714\n",
      "  2759.435 3620.25 ]\n",
      " [ 487.527  168.945    0.     696.697  913.912 1403.048 1885.748 1996.769\n",
      "  2590.49  3451.305]\n",
      " [1184.224  865.642  696.697    0.     217.215  706.351 1189.051 1300.072\n",
      "  1893.793 2754.608]\n",
      " [1401.439 1082.857  913.912  217.215    0.     489.136  971.836 1082.857\n",
      "  1676.578 2537.393]\n",
      " [1890.575 1571.993 1403.048  706.351  489.136    0.     482.7    593.721\n",
      "  1187.442 2048.257]\n",
      " [2373.275 2054.693 1885.748 1189.051  971.836  482.7      0.     111.021\n",
      "   704.742 1565.557]\n",
      " [2484.296 2165.714 1996.769 1300.072 1082.857  593.721  111.021    0.\n",
      "   593.721 1454.536]\n",
      " [3078.017 2759.435 2590.49  1893.793 1676.578 1187.442  704.742  593.721\n",
      "     0.     860.815]\n",
      " [3938.832 3620.25  3451.305 2754.608 2537.393 2048.257 1565.557 1454.536\n",
      "   860.815    0.   ]]\n"
     ]
    }
   ],
   "source": [
    "route66 = np.array([0, 198, 303, 736, 871, 1175, 1475, 1544, 1913, 2448])\n",
    "distances66 = abs(route66[:,np.newaxis]-route66)\n",
    "print(distances66)\n",
    "distances66 = distances66 * 1.609\n",
    "print(distances66)"
   ]
  },
  {
   "cell_type": "markdown",
   "metadata": {},
   "source": [
    "7\\. Prime numbers sieve: compute the prime numbers in the 0-N (N=99 to start with) range with a sieve (mask).\n",
    "  * Constract a shape (100,) boolean array, the mask\n",
    "  * Identify the multiples of each number starting from 2 and set accordingly the corresponding mask element\n",
    "  * Apply the mask to obtain an array of ordered prime numbers\n",
    "  * Check the performances (timeit); how does it scale with N?\n",
    "  * Implement the optimization suggested in the [sieve of Eratosthenes](https://en.wikipedia.org/wiki/Sieve_of_Eratosthenes)"
   ]
  },
  {
   "cell_type": "code",
   "execution_count": 168,
   "metadata": {},
   "outputs": [
    {
     "name": "stdout",
     "output_type": "stream",
     "text": [
      "[ 1  2  3  5  7 11 13 17 19 23 29 31 37 41 43 47 53 59 61 67 71 73 79 83\n",
      " 89 97]\n",
      "[ 1  2  3  5  7 11 13 17 19 23 29 31 37 41 43 47 53 59 61 67 71 73 79 83\n",
      " 89 97]\n"
     ]
    }
   ],
   "source": [
    "import matplotlib.pyplot as plt\n",
    "import numpy as np\n",
    "\n",
    "def raw_prime_number(mask,N):\n",
    "    func_mask = mask.copy()\n",
    "    for i in range(1,(N+1)//2):\n",
    "        for j in range(3,2*i+1):\n",
    "            if (2*i+1)%j==0:\n",
    "                func_mask[2*i+1] = False\n",
    "    return func_mask\n",
    "\n",
    "def Eratosthenes_sieve(mask,N):\n",
    "    clever_mask = mask.copy()\n",
    "    p = 3\n",
    "    i = 2\n",
    "    while(p<=N):\n",
    "        #print(p)\n",
    "        if p*i<=N:\n",
    "            clever_mask[p*i]=False\n",
    "            i+=1\n",
    "        else:\n",
    "            p+=1\n",
    "            i = 2\n",
    "            while (p<=N)and(~mask[p]):\n",
    "                p+=1\n",
    "    return clever_mask\n",
    "\n",
    "N = 100\n",
    "mask = np.array([True for i in range(N+1)])\n",
    "mask[::2] = False\n",
    "mask[2] = True\n",
    "\n",
    "#already remove the even numbers\n",
    "vector = np.arange(N+1)\n",
    "\n",
    "#%timeit raw_prime_number(mask,N)\n",
    "\n",
    "raw_mask = raw_prime_number(mask,N)\n",
    "#print(raw_mask)\n",
    "prime_numbers = vector[raw_mask]\n",
    "print(prime_numbers)\n",
    "\n",
    "#How does the time scale with N?\n",
    "xs = [100,200,300,400,500]\n",
    "ys = [270,1100,2350,5500,8500]          #observations on multiples runs of timeit\n",
    "#plt.plot(xs,ys)                         #as the graphic shows, apart from small variations,the time seems to scale linearly with N\n",
    "\n",
    "Eratosthenes_mask = Eratosthenes_sieve(mask,N)\n",
    "print(vector[Eratosthenes_mask])"
   ]
  },
  {
   "cell_type": "markdown",
   "metadata": {},
   "source": [
    "8\\. Diffusion using random walk\n",
    "\n",
    "Consider a simple random walk process: at each step in time, a walker jumps right or left (+1 or -1) with equal probability. The goal is to find the typical distance from the origin of a random walker after a given amount of time. \n",
    "To do that, let's simulate many walkers and create a 2D array with each walker as a row and the actual time evolution as columns\n",
    "\n",
    "  * Take 1000 walkers and let them walk for 200 steps\n",
    "  * Use randint to create a 2D array of size walkers x steps with values -1 or 1\n",
    "  * Build the actual walking distances for each walker (i.e. another 2D array \"summing on each row\")\n",
    "  * Take the square of that 2D array (elementwise)\n",
    "  * Compute the mean of the squared distances at each step (i.e. the mean along the columns)\n",
    "  * Plot the average distances (sqrt(distance\\*\\*2)) as a function of time (step)\n",
    "  \n",
    "Did you get what you expected?"
   ]
  },
  {
   "cell_type": "code",
   "execution_count": 35,
   "metadata": {
    "scrolled": true
   },
   "outputs": [
    {
     "data": {
      "image/png": "[encoded data removed]",
      "text/plain": [
       "<Figure size 432x288 with 1 Axes>"
      ]
     },
     "metadata": {
      "needs_background": "light"
     },
     "output_type": "display_data"
    }
   ],
   "source": [
    "import numpy.random as npr\n",
    "import matplotlib.pyplot as plt\n",
    "\n",
    "#npr.seed(200)\n",
    "rand_walk = npr.randint(0,2,(1000,200))\n",
    "rand_walk[rand_walk==0] = -1\n",
    "#print(rand_walk)\n",
    "distances = np.cumsum(rand_walk,axis=1)\n",
    "#print(distances[1,:])\n",
    "quadr_dist = distances**2\n",
    "means = np.mean(quadr_dist,axis=0)\n",
    "#print(means)\n",
    "steps=np.arange(1,201,1)\n",
    "\n",
    "plt.plot(steps,np.sqrt(means))\n",
    "plt.show()\n",
    "# I expected that the curve converged to 0, but this is not what it looks like. Maybe the distribution for 1 and -1 is not uniform?"
   ]
  },
  {
   "cell_type": "markdown",
   "metadata": {},
   "source": [
    "9\\. Analyze a data file \n",
    "  * Download the population of hares, lynxes and carrots at the beginning of the last century.\n",
    "    ```python\n",
    "    ! wget https://www.dropbox.com/s/3vigxoqayo389uc/populations.txt\n",
    "    ```\n",
    "\n",
    "  * Check the content by looking within the file\n",
    "  * Load the data (use an appropriate numpy method) into a 2D array\n",
    "  * Create arrays out of the columns, the arrays being (in order): *year*, *hares*, *lynxes*, *carrots* \n",
    "  * Plot the 3 populations over the years\n",
    "  * Compute the main statistical properties of the dataset (mean, std, correlations, etc.)\n",
    "  * Which species has the highest population each year?\n",
    "\n",
    "Do you feel there is some evident correlation here? [Studies](https://www.enr.gov.nt.ca/en/services/lynx/lynx-snowshoe-hare-cycle) tend to believe so."
   ]
  },
  {
   "cell_type": "code",
   "execution_count": 82,
   "metadata": {},
   "outputs": [
    {
     "data": {
      "image/png": "[encoded data removed]",
      "text/plain": [
       "<Figure size 432x288 with 1 Axes>"
      ]
     },
     "metadata": {
      "needs_background": "light"
     },
     "output_type": "display_data"
    },
    {
     "name": "stdout",
     "output_type": "stream",
     "text": [
      "        HARES\n",
      "mean 34080.95238095238\n",
      "median 25400.0\n",
      "std 20897.906458089667\n",
      "        LYNXES\n",
      "mean 20166.666666666668\n",
      "median 12300.0\n",
      "std 16254.591536908763\n",
      "        CARROTS\n",
      "max 48300\n",
      "mean 42400.0\n",
      "median 41800.0\n",
      "std 3322.5062255844787\n",
      "\n",
      "\n",
      "Hares vs. Lynxes\n",
      "[2061218112]\n",
      "\n",
      "Carrots vs. Lynxes\n",
      "[4670816]\n",
      "\n",
      "Hares vs. Carrots\n",
      "[256698928]\n"
     ]
    }
   ],
   "source": [
    "import matplotlib.pyplot as plt\n",
    "file = np.loadtxt('populations.txt',dtype=int)\n",
    "\n",
    "year = file[:,0]\n",
    "hares = file[:,1]\n",
    "lynxes = file[:,2]\n",
    "carrots = file[:,3]\n",
    "\n",
    "plt.plot(year,hares,label='Hares')\n",
    "plt.plot(year,lynxes,label='Lynxes')\n",
    "plt.plot(year,carrots,label='Carrots')\n",
    "plt.legend()\n",
    "plt.show()\n",
    "\n",
    "print(\"        HARES\")\n",
    "for function in ['max','mean','median','std']:\n",
    "    print (function, getattr(np, function)(hares))\n",
    "\n",
    "print(\"        LYNXES\")\n",
    "for function in ['max','mean','median','std']:\n",
    "    print (function, getattr(np, function)(lynxes))\n",
    "    \n",
    "    \n",
    "print(\"        CARROTS\")\n",
    "for function in ['max','mean','median','std']:\n",
    "    print (function, getattr(np, function)(carrots))\n",
    "    \n",
    "correlations = np.array([np.correlate(hares, lynxes),np.correlate(carrots, lynxes),np.correlate(hares, carrots)])\n",
    "print(\"\\n\\nHares vs. Lynxes\")\n",
    "print(correlations[0])\n",
    "print(\"\\nCarrots vs. Lynxes\")\n",
    "print(correlations[1])\n",
    "print(\"\\nHares vs. Carrots\")\n",
    "print(correlations[2])"
   ]
  }
 ],
 "metadata": {
  "kernelspec": {
   "display_name": "Python 3",
   "language": "python",
   "name": "python3"
  },
  "language_info": {
   "codemirror_mode": {
    "name": "ipython",
    "version": 3
   },
   "file_extension": ".py",
   "mimetype": "text/x-python",
   "name": "python",
   "nbconvert_exporter": "python",
   "pygments_lexer": "ipython3",
   "version": "3.8.6"
  }
 },
 "nbformat": 4,
 "nbformat_minor": 2
}
