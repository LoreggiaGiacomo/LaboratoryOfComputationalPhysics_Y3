{
 "cells": [
  {
   "cell_type": "markdown",
   "metadata": {},
   "source": [
    "1\\. Write a function that converts number representation (bin<->dec<->hex)"
   ]
  },
  {
   "cell_type": "code",
   "execution_count": 22,
   "metadata": {},
   "outputs": [
    {
     "name": "stdout",
     "output_type": "stream",
     "text": [
      "Insert an integer a9\n",
      "Inserire la base 16\n",
      "The inserted number is a9\n",
      "Its binary rappresentation is 0b10101001\n",
      "Its decimal rappresentation is 0xa9\n"
     ]
    },
    {
     "data": {
      "text/plain": [
       "('0b10101001', 169, '0xa9')"
      ]
     },
     "execution_count": 22,
     "metadata": {},
     "output_type": "execute_result"
    }
   ],
   "source": [
    "def conversion(x,curr_base=10):\n",
    "    if curr_base==10:\n",
    "        decx = x\n",
    "        binx = bin(x)\n",
    "        hexx = hex(x)\n",
    "        print(\"The inserted number is\", decx)\n",
    "        print(\"Its binary rappresentation is\", binx)\n",
    "        print(\"Its hexadecimal rappresentation is\", hexx)\n",
    "    elif curr_base==2:\n",
    "        binx = bin(int(str(x),2))\n",
    "        decx = int(binx,2)\n",
    "        hexx = hex(decx)\n",
    "        print(\"The inserted number is\", binx)\n",
    "        print(\"Its decimal rappresentation is\", decx)\n",
    "        print(\"Its hexadecimal rappresentation is\", hexx)\n",
    "    else:\n",
    "        hexx = hex(int(str(x),16))\n",
    "        decx = int(hexx,16)\n",
    "        binx = bin(decx)\n",
    "        print(\"The inserted number is\", x)\n",
    "        print(\"Its binary rappresentation is\", binx)\n",
    "        print(\"Its decimal rappresentation is\", hexx)\n",
    "    return binx,decx,hexx\n",
    "\n",
    "        \n",
    "x = input(\"Insert an integer \")\n",
    "curr_base = int(input(\"Inserire la base \"))\n",
    "conversion(x,curr_base)\n"
   ]
  },
  {
   "cell_type": "markdown",
   "metadata": {},
   "source": [
    "2\\. Write a function that converts a 32 bit word into a single precision floating point (i.e. interprets the various bits as sign, mantissa and exponent)"
   ]
  },
  {
   "cell_type": "code",
   "execution_count": 1,
   "metadata": {},
   "outputs": [
    {
     "name": "stdout",
     "output_type": "stream",
     "text": [
      "-6.0\n"
     ]
    }
   ],
   "source": [
    "def conv_into_float(x):\n",
    "    word = list(str(bin(x)))\n",
    "    while(len(word)<34):\n",
    "        word.insert(2,'0')\n",
    "    #print(word)\n",
    "    exponent = \"\"\n",
    "    mantissa = \"\"\n",
    "    for x in range(3,11):\n",
    "        exponent += word[x]\n",
    "    exponent = int(exponent,2)\n",
    "    #print(exponent)\n",
    "    for x in range(11,34):\n",
    "        mantissa += word[x]\n",
    "    #print(mantissa)\n",
    "    frac = 0\n",
    "    for x in range(len(mantissa)):\n",
    "        frac += int(mantissa[x])*2**(-(x+1))\n",
    "    #print(frac)\n",
    "    floatnum = (1+frac)*2**(exponent-127)\n",
    "    if int(word[2])==1:\n",
    "        floatnum = -floatnum\n",
    "    return floatnum\n",
    "\n",
    "\n",
    "#x = 0xbfa00000\n",
    "x = 0xc0c00000\n",
    "print(conv_into_float(x))"
   ]
  },
  {
   "cell_type": "markdown",
   "metadata": {},
   "source": [
    "3\\. Write a program to determine the underflow and overflow limits (within a factor of 2) for python on your computer. \n",
    "\n",
    "**Tips**: define two variables inizialized to 1 and halve/double them enough time to exceed the under/over-flow limits  "
   ]
  },
  {
   "cell_type": "code",
   "execution_count": 12,
   "metadata": {},
   "outputs": [
    {
     "name": "stdout",
     "output_type": "stream",
     "text": [
      "The minimum value is 5e-324\n",
      "sys.float_info(max=1.7976931348623157e+308, max_exp=1024, max_10_exp=308, min=2.2250738585072014e-308, min_exp=-1021, min_10_exp=-307, dig=15, mant_dig=53, epsilon=2.220446049250313e-16, radix=2, rounds=1)\n",
      "The max value is 8.98846567431158e+307\n"
     ]
    }
   ],
   "source": [
    "import math\n",
    "import sys\n",
    "\n",
    "overx = 1.\n",
    "underx = 1.\n",
    "\n",
    "while((underx/2)>0):\n",
    "    underx = underx/2\n",
    "print(\"The minimum value is\", underx)\n",
    "print(sys.float_info)\n",
    "\n",
    "while((overx*2)<math.inf):\n",
    "    overx = overx*2\n",
    "print(\"The max value is\", overx)"
   ]
  },
  {
   "cell_type": "markdown",
   "metadata": {},
   "source": [
    "4\\. Write a program to determine the machine precision\n",
    "\n",
    "**Tips**: define a new variable by adding a smaller and smaller value (proceeding similarly to prob. 2) to an original variable and check the point where the two are the same "
   ]
  },
  {
   "cell_type": "code",
   "execution_count": 8,
   "metadata": {},
   "outputs": [
    {
     "name": "stdout",
     "output_type": "stream",
     "text": [
      "1.0000000000000001e-16\n"
     ]
    }
   ],
   "source": [
    "initial_value = 1.\n",
    "step = 1/10\n",
    "\n",
    "while initial_value != (initial_value + step):\n",
    "    step = step / 10\n",
    "\n",
    "print(step)"
   ]
  },
  {
   "cell_type": "markdown",
   "metadata": {},
   "source": [
    "5\\. Write a function that takes in input three parameters $a$, $b$ and $c$ and prints out the two solutions to the quadratic equation $ax^2+bx+c=0$ using the standard formula:\n",
    "$$\n",
    "x=\\frac{-b\\pm\\sqrt{b^2-4ac}}{2a}\n",
    "$$\n",
    "\n",
    "(a) use the program to compute the solution for $a=0.001$, $b=1000$ and $c=0.001$\n",
    "\n",
    "(b) re-express the standard solution formula by multiplying top and bottom by $-b\\mp\\sqrt{b^2-4ac}$ and again find the solution for $a=0.001$, $b=1000$ and $c=0.001$. How does it compare with what previously obtained? Why?\n",
    "\n",
    "(c) write a function that compute the roots of a quadratic equation accurately in all cases"
   ]
  },
  {
   "cell_type": "code",
   "execution_count": 19,
   "metadata": {},
   "outputs": [
    {
     "name": "stdout",
     "output_type": "stream",
     "text": [
      "(-9.999894245993346e-07, -999999.999999)\n",
      "(-1.0000000000009999e-06, -1000010.5755125057)\n",
      "(-1.0007061064243317e-06, -999999.9999989993)\n"
     ]
    }
   ],
   "source": [
    "import math as m\n",
    "def quadratic_sol(a,b,c):\n",
    "    r_delta = m.sqrt(b**2-4*a*c)\n",
    "    x1 = (-b + r_delta)/(2*a)\n",
    "    x2 = (-b - r_delta)/(2*a)\n",
    "    return x1,x2\n",
    "'''    print(b**2-4*a*c)\n",
    "    print(r_delta**2)\n",
    "    print(r_delta)\n",
    "    print(r_delta/2/a)   '''\n",
    "\n",
    "# The square root in r_delta makes the result no more precise. In particular r_delta is slightly bigger than what that value should be.\n",
    "#  The error propagates through the successive operations. That's why multiplying and dividing by the opposite of the numerator \n",
    "#  we obtain a formula which is mathematically equivalent but, when implemented, gives completely different results compared to\n",
    "#  to the initial one.\n",
    "def modified_quadratic_sol(a,b,c):\n",
    "    r_delta = m.sqrt(b**2-4*a*c)\n",
    "    \n",
    "    x1 = (4*a*c)/(2*a*(-b-r_delta))\n",
    "    x2 = (4*a*c)/(2*a*(-b+r_delta))\n",
    "    return x1,x2\n",
    "\n",
    "def good_quadratic_sol(a,b,c):\n",
    "    x1 = (-b/(2*a)+m.e**((0.5*m.log(b**2-4*a*c))-m.log(2*a)))\n",
    "    x2 = (-b/(2*a)-m.e**((0.5*m.log(b**2-4*a*c))-m.log(2*a)))\n",
    "    return x1,x2\n",
    "'''    print(m.e**(0.5*m.log(b**2-4*a*c)))\n",
    "    print((m.e**(0.5*m.log(b**2-4*a*c)*2)))\n",
    "    print(+m.e**((0.5*m.log(b**2-4*a*c))-m.log(2*a)))   '''\n",
    "\n",
    "# sqrt(b**2-4*a*c) < r_delta\n",
    "\n",
    "a = 0.001\n",
    "b = 1000\n",
    "c = 0.001\n",
    "print(quadratic_sol(a,b,c))\n",
    "print(modified_quadratic_sol(a,b,c))\n",
    "print(good_quadratic_sol(a,b,c))"
   ]
  },
  {
   "cell_type": "markdown",
   "metadata": {},
   "source": [
    "6\\. Write a program that implements the function $f(x)=x(x−1)$\n",
    "\n",
    "(a) Calculate the derivative of the function at the point $x = 1$ using the derivative definition:\n",
    "\n",
    "$$\n",
    "\\frac{{\\rm d}f}{{\\rm d}x} = \\lim_{\\delta\\to0} \\frac{f(x+\\delta)-f(x)}{\\delta}\n",
    "$$\n",
    "\n",
    "with $\\delta = 10^{−2}$. Calculate the true value of the same derivative analytically and compare with the answer your program gives. The two will not agree perfectly. Why not?\n",
    "\n",
    "(b) Repeat the calculation for $\\delta = 10^{−4}, 10^{−6}, 10^{−8}, 10^{−10}, 10^{−12}$ and $10^{−14}$. How does the accuracy scales with $\\delta$?"
   ]
  },
  {
   "cell_type": "code",
   "execution_count": 20,
   "metadata": {},
   "outputs": [
    {
     "name": "stdout",
     "output_type": "stream",
     "text": [
      "1.010000000000001\n",
      "[1.0000999999998899, 1.0000009999177333, 1.0000000039225287, 1.000000082840371, 1.0000889005833413, 0.9992007221626509]\n"
     ]
    }
   ],
   "source": [
    "def f(x):\n",
    "    return x*(x-1)\n",
    "\n",
    "x=1\n",
    "delta = 1e-2\n",
    "def_der = (f(x+delta) - f(x))/delta\n",
    "print(def_der)\n",
    "# The values do not perfectly match because using the definition of derivative, with delta = 10^-2, we're not\n",
    "#  mathematically using the limit, we're instead using an approximation of what it is the limit.\n",
    "# Computing analitically the derivative gives indeed perfectly 1.\n",
    "\n",
    "deltas = [10**(-2*i) for i in range(2,8)]\n",
    "#print(deltas)\n",
    "derivatives = [(f(x+delt) - f(x))/delt for delt in deltas]\n",
    "print(derivatives)\n",
    "# The accuracy increases until delta reaches the value 10^-14, from that on the accuracy gets worse"
   ]
  },
  {
   "cell_type": "markdown",
   "metadata": {},
   "source": [
    "7\\. Consider the integral of the semicircle of radius 1:\n",
    "$$\n",
    "I=\\int_{-1}^{1} \\sqrt(1-x^2) {\\rm d}x\n",
    "$$\n",
    "which it's known to be $I=\\frac{\\pi}{2}=1.57079632679...$.\n",
    "Alternatively we can use the Riemann definition of the integral:\n",
    "$$\n",
    "I=\\lim_{N\\to\\infty} \\sum_{k=1}^{N} h y_k \n",
    "$$\n",
    "\n",
    "with $h=2/N$ the width of each of the $N$ slices the domain is divided into and where\n",
    "$y_k$ is the value of the function at the $k-$th slice.\n",
    "\n",
    "(a) Write a programe to compute the integral with $N=100$. How does the result compares to the true value?\n",
    "\n",
    "(b) How much can $N$ be increased if the computation needs to be run in less than a second? What is the gain in running it for 1 minute? \n"
   ]
  },
  {
   "cell_type": "code",
   "execution_count": 7,
   "metadata": {},
   "outputs": [
    {
     "name": "stdout",
     "output_type": "stream",
     "text": [
      "1.553417929404895\n",
      "1.5706375839994526\n",
      "1.5707805662399095\n",
      "1.5707947543354452\n",
      "1.05 s ± 11.2 ms per loop (mean ± std. dev. of 7 runs, 1 loop each)\n"
     ]
    }
   ],
   "source": [
    "import math as m\n",
    "import numpy as np\n",
    "def semicircle_integral(N):\n",
    "    h = 2/N\n",
    "    sliced_domain = np.linspace(-1,1,N)\n",
    "    semicircle = lambda x: m.sqrt(1-x**2)\n",
    "    y = [semicircle(x) for x in sliced_domain]\n",
    "    return h*sum(y)\n",
    "\n",
    "print(semicircle_integral(100))\n",
    "print(semicircle_integral(10000))\n",
    "print(semicircle_integral(100000))\n",
    "print(semicircle_integral(1000000))\n",
    "\n",
    "%timeit semicircle_integral(1000000)\n",
    "# N can be increased for up to almost 1 million before the function takes more than a second to get the result\n",
    "# Watching the execution time for different Ns it seems that the time grows linearly with N. On the other hand, as it is\n",
    "# showed, letting N grow by orders of magnitude gets a difference in terms of fractions of thousandths"
   ]
  }
 ],
 "metadata": {
  "kernelspec": {
   "display_name": "Python 3",
   "language": "python",
   "name": "python3"
  },
  "language_info": {
   "codemirror_mode": {
    "name": "ipython",
    "version": 3
   },
   "file_extension": ".py",
   "mimetype": "text/x-python",
   "name": "python",
   "nbconvert_exporter": "python",
   "pygments_lexer": "ipython3",
   "version": "3.8.6"
  }
 },
 "nbformat": 4,
 "nbformat_minor": 2
}
